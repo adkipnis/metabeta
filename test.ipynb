{
 "cells": [
  {
   "cell_type": "code",
   "execution_count": null,
   "id": "862cc811-ca31-4127-9369-eea8330b1541",
   "metadata": {},
   "outputs": [],
   "source": [
    "from generator import Task, LinearModel\n",
    "from tokenizer import FloatTokenizer\n",
    "from dataset import LinearModelDataset\n",
    "from config import getConfig\n",
    "from train import Trainer"
   ]
  },
  {
   "cell_type": "code",
   "execution_count": null,
   "id": "cbe0e586-27ff-4265-8074-edd5eadcecb4",
   "metadata": {},
   "outputs": [],
   "source": [
    "cfg = getConfig()\n",
    "trainer = Trainer(cfg)"
   ]
  },
  {
   "cell_type": "code",
   "execution_count": null,
   "id": "abdfad27-9d37-42fa-a876-b6e56e46a6ff",
   "metadata": {},
   "outputs": [],
   "source": [
    "train_dl, val_dl = trainer.getDataset(cfg, 1)"
   ]
  },
  {
   "cell_type": "code",
   "execution_count": null,
   "id": "3f303d35-4d9c-4785-a0ef-f0c6801309a1",
   "metadata": {},
   "outputs": [],
   "source": [
    "trainer.runEpoch(1, seed=1, train=False)"
   ]
  },
  {
   "cell_type": "code",
   "execution_count": null,
   "id": "510edbac-a9d4-4873-881b-1d80cb66545f",
   "metadata": {},
   "outputs": [],
   "source": [
    "# 3e6 // 50\n"
   ]
  }
 ],
 "metadata": {
  "kernelspec": {
   "display_name": "Python 3 (ipykernel)",
   "language": "python",
   "name": "python3"
  },
  "language_info": {
   "codemirror_mode": {
    "name": "ipython",
    "version": 3
   },
   "file_extension": ".py",
   "mimetype": "text/x-python",
   "name": "python",
   "nbconvert_exporter": "python",
   "pygments_lexer": "ipython3",
   "version": "3.12.7"
  }
 },
 "nbformat": 4,
 "nbformat_minor": 5
}
