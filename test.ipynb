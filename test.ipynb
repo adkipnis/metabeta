{
 "cells": [
  {
   "cell_type": "code",
   "execution_count": 1,
   "id": "862cc811-ca31-4127-9369-eea8330b1541",
   "metadata": {},
   "outputs": [],
   "source": [
    "from generator import Task, LinearModel\n",
    "from tokenizer import FloatTokenizer\n",
    "from dataset import LinearModelDataset\n",
    "from config import getConfig\n",
    "from train import trainModel"
   ]
  },
  {
   "cell_type": "code",
   "execution_count": 2,
   "id": "cbe0e586-27ff-4265-8074-edd5eadcecb4",
   "metadata": {},
   "outputs": [],
   "source": [
    "task = Task(n_predictors=2)\n",
    "lm = LinearModel(task)\n",
    "tokenizer = FloatTokenizer()"
   ]
  },
  {
   "cell_type": "code",
   "execution_count": 3,
   "id": "3f303d35-4d9c-4785-a0ef-f0c6801309a1",
   "metadata": {},
   "outputs": [
    {
     "name": "stdout",
     "output_type": "stream",
     "text": [
      "{'n_predictors': 2, 'n_samples': 50, 'n_draws': 256, 'batch_size': 4, 'n_epochs': 10, 'lr': 0.001, 'd_model': 128, 'd_ff': 256, 'n_heads': 4, 'n_blocks_e': 2, 'n_blocks_d': 6, 'dropout': 0.1, 'seq_len': 2000, 'seq_len_out': 14, 'precision': 4, 'preload': None, 'model_folder': 'weights', 'model_basename': 'tmodel', 'experiment_name': 'runs/linear'}\n"
     ]
    }
   ],
   "source": [
    "cfg = getConfig()\n",
    "print(cfg)"
   ]
  },
  {
   "cell_type": "code",
   "execution_count": 4,
   "id": "2916c565-b62f-4655-bae5-91a9f58c52cb",
   "metadata": {},
   "outputs": [],
   "source": [
    "# train_dl, val_dl, tokenizer = getDataset(cfg)"
   ]
  },
  {
   "cell_type": "code",
   "execution_count": null,
   "id": "3f6e35d2-dd67-44c5-94ae-b0383c0c8988",
   "metadata": {},
   "outputs": [
    {
     "name": "stdout",
     "output_type": "stream",
     "text": [
      "Device: cpu\n",
      "Train size: 230, Validation size: 26\n"
     ]
    },
    {
     "name": "stderr",
     "output_type": "stream",
     "text": [
      "Epoch 00: 100%|███████████████████████████████████████████████████████████████████| 58/58 [10:38<00:00, 11.00s/it, loss=4.38]\n"
     ]
    },
    {
     "name": "stdout",
     "output_type": "stream",
     "text": [
      "Error decoding: ['[SOS]', '+', 'E-4', '+', 'E-4', '+', 'E-4', '+', 'E-4', '+', 'E-4', '+', 'E-4', '+']\n",
      "--------------------------------------------------------------------------------\n",
      "Target: tensor([-0.7844,  1.4195, -0.1667,  0.1000])\n",
      "Predicted: [SOS]+E-4+E-4+E-4+E-4+E-4+E-4+\n",
      "Predicted (tokens): ['[SOS]', '+', 'E-4', '+', 'E-4', '+', 'E-4', '+', 'E-4', '+', 'E-4', '+', 'E-4', '+']\n",
      "Error decoding: ['[SOS]', '+', 'E-4', '+', 'E-4', '+', 'E-4', '+', 'E-4', '+', 'E-4', '+', 'E-4', '+']\n",
      "--------------------------------------------------------------------------------\n",
      "Target: tensor([0.7648, 2.4529, 1.1117, 0.1000])\n",
      "Predicted: [SOS]+E-4+E-4+E-4+E-4+E-4+E-4+\n",
      "Predicted (tokens): ['[SOS]', '+', 'E-4', '+', 'E-4', '+', 'E-4', '+', 'E-4', '+', 'E-4', '+', 'E-4', '+']\n"
     ]
    },
    {
     "name": "stderr",
     "output_type": "stream",
     "text": [
      "Epoch 01: 100%|███████████████████████████████████████████████████████████████████| 58/58 [10:50<00:00, 11.21s/it, loss=3.61]\n"
     ]
    },
    {
     "name": "stdout",
     "output_type": "stream",
     "text": [
      "Error decoding: ['[SOS]', '+', 'N1000', 'E-4', '+', 'N1000', 'E-4', '+', 'N1000', 'E-4', '+', 'N1000', 'E-4', '+']\n",
      "--------------------------------------------------------------------------------\n",
      "Target: tensor([-1.0756, -0.5996, -0.2111,  0.1000])\n",
      "Predicted: [SOS]+N1000E-4+N1000E-4+N1000E-4+N1000E-4+\n",
      "Predicted (tokens): ['[SOS]', '+', 'N1000', 'E-4', '+', 'N1000', 'E-4', '+', 'N1000', 'E-4', '+', 'N1000', 'E-4', '+']\n",
      "Error decoding: ['[SOS]', '+', 'N1000', 'E-4', '+', 'N1000', 'E-4', '+', 'N1000', 'E-4', '+', 'N1000', 'E-4', '+']\n",
      "--------------------------------------------------------------------------------\n",
      "Target: tensor([ 0.1294, -0.5817,  2.1366,  0.1000])\n",
      "Predicted: [SOS]+N1000E-4+N1000E-4+N1000E-4+N1000E-4+\n",
      "Predicted (tokens): ['[SOS]', '+', 'N1000', 'E-4', '+', 'N1000', 'E-4', '+', 'N1000', 'E-4', '+', 'N1000', 'E-4', '+']\n"
     ]
    },
    {
     "name": "stderr",
     "output_type": "stream",
     "text": [
      "Epoch 02: 100%|███████████████████████████████████████████████████████████████████| 58/58 [11:02<00:00, 11.42s/it, loss=3.11]\n"
     ]
    },
    {
     "name": "stdout",
     "output_type": "stream",
     "text": [
      "--------------------------------------------------------------------------------\n",
      "Target: tensor([ 0.1539, -1.7573,  0.0880,  0.1000])\n",
      "Predicted: [0.1]\n",
      "Predicted (tokens): ['[SOS]', '+', 'N1000', 'E-4', '[EOS]']\n",
      "--------------------------------------------------------------------------------\n",
      "Target: tensor([-0.1707,  1.4741,  0.2748,  0.1000])\n",
      "Predicted: [0.1]\n",
      "Predicted (tokens): ['[SOS]', '+', 'N1000', 'E-4', '[EOS]']\n"
     ]
    },
    {
     "name": "stderr",
     "output_type": "stream",
     "text": [
      "Epoch 03:  12%|████████▏                                                           | 7/58 [01:22<10:15, 12.07s/it, loss=3.22]"
     ]
    }
   ],
   "source": [
    "trainModel(cfg)"
   ]
  },
  {
   "cell_type": "code",
   "execution_count": null,
   "id": "c778285a-2d36-4158-8a0d-cae760986aa1",
   "metadata": {},
   "outputs": [],
   "source": []
  },
  {
   "cell_type": "code",
   "execution_count": null,
   "id": "395cabb9-c759-44aa-8395-a8078dabb397",
   "metadata": {},
   "outputs": [],
   "source": []
  },
  {
   "cell_type": "code",
   "execution_count": null,
   "id": "77c0cf38-aba3-4672-a8a6-827c7e43fdea",
   "metadata": {},
   "outputs": [],
   "source": []
  },
  {
   "cell_type": "code",
   "execution_count": null,
   "id": "c8c8c873-f2dd-4ec8-8f9e-509a54640b83",
   "metadata": {},
   "outputs": [],
   "source": []
  }
 ],
 "metadata": {
  "kernelspec": {
   "display_name": "Python 3 (ipykernel)",
   "language": "python",
   "name": "python3"
  },
  "language_info": {
   "codemirror_mode": {
    "name": "ipython",
    "version": 3
   },
   "file_extension": ".py",
   "mimetype": "text/x-python",
   "name": "python",
   "nbconvert_exporter": "python",
   "pygments_lexer": "ipython3",
   "version": "3.12.7"
  }
 },
 "nbformat": 4,
 "nbformat_minor": 5
}
