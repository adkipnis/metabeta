{
 "cells": [
  {
   "cell_type": "code",
   "execution_count": 2,
   "id": "862cc811-ca31-4127-9369-eea8330b1541",
   "metadata": {},
   "outputs": [],
   "source": [
    "from generator import Task, LinearModel\n",
    "from tokenizer import FloatTokenizer\n",
    "from dataset import LinearModelDataset\n",
    "from config import getConfig\n",
    "from train import Trainer\n",
    "from tqdm import tqdm\n",
    "import torch\n",
    "import math"
   ]
  },
  {
   "cell_type": "code",
   "execution_count": 3,
   "id": "cbe0e586-27ff-4265-8074-edd5eadcecb4",
   "metadata": {},
   "outputs": [
    {
     "name": "stdout",
     "output_type": "stream",
     "text": [
      "Device: cpu\n"
     ]
    }
   ],
   "source": [
    "cfg = getConfig()\n",
    "trainer = Trainer(cfg)"
   ]
  },
  {
   "cell_type": "code",
   "execution_count": 4,
   "id": "6285c16b-91e8-43ea-af57-2c58a6df450c",
   "metadata": {},
   "outputs": [
    {
     "name": "stdout",
     "output_type": "stream",
     "text": [
      "10014 E1 exponent\n"
     ]
    }
   ],
   "source": [
    "i = trainer.tokenizer.tokenToIdx(\"E1\")\n",
    "t = trainer.tokenizer.idxToToken(i)\n",
    "c = trainer.tokenizer.idxToCategory(i)\n",
    "print(i, t, c)"
   ]
  },
  {
   "cell_type": "code",
   "execution_count": 6,
   "id": "dc7d47a1-9418-46a5-9924-0d0b34dbdee8",
   "metadata": {},
   "outputs": [
    {
     "name": "stdout",
     "output_type": "stream",
     "text": [
      "exponent\n"
     ]
    },
    {
     "data": {
      "text/plain": [
       "tensor([ True, False,  True,  True, False, False,  True,  True,  True])"
      ]
     },
     "execution_count": 6,
     "metadata": {},
     "output_type": "execute_result"
    }
   ],
   "source": [
    "mask = trainer.tokenizer.conditionalMask(i)\n",
    "mask[1:10] == False"
   ]
  },
  {
   "cell_type": "code",
   "execution_count": null,
   "id": "5077a74a-7c97-4f66-bff1-33ba1fcf5bf3",
   "metadata": {},
   "outputs": [],
   "source": [
    "def runBatch2(batch: dict) -> float:\n",
    "        self.model.train()\n",
    "        encoder_input = batch[\"encoder_input\"].to(self.device) # (batch_size, seq_len)\n",
    "        encoder_mask = batch[\"encoder_mask\"].to(self.device) # (batch_size, 1, 1, seq_len)\n",
    "        decoder_input = batch[\"decoder_input\"].to(self.device) # (batch_size, seq_len)\n",
    "        decoder_mask = batch[\"decoder_mask\"].to(self.device) # (batch_size, 1, seq_len, seq_len)\n",
    "\n",
    "        # forward pass\n",
    "        encoder_output = self.model.encode(encoder_input, encoder_mask) # (batch_size, seq_len, d_model)\n",
    "        decoder_output = self.model.decode(encoder_output, encoder_mask, decoder_input, decoder_mask) # (batch_size, seq_len, d_model)\n",
    "        proj_output = self.model.projection(decoder_output) # (batch_size, seq_len, vocab_tgt_len)\n",
    "        return proj_output\n",
    "\n",
    "trainer.runBatch2 = runBatch2"
   ]
  },
  {
   "cell_type": "code",
   "execution_count": null,
   "id": "2909fcc8-7bba-4969-9495-8a22c3875617",
   "metadata": {},
   "outputs": [],
   "source": [
    "self = trainer\n",
    "epoch = 1\n",
    "train_dl, val_dl = self.getDataset(config=self.config, seed=2)\n",
    "batch_iterator = tqdm(train_dl, desc=f\"Epoch {epoch:02d}\")\n",
    "\n",
    "for batch in batch_iterator:\n",
    "    proj_output = self.runBatch2(batch)\n",
    "    break\n"
   ]
  },
  {
   "cell_type": "code",
   "execution_count": null,
   "id": "142f26b9-c549-4154-b9df-ee467dc316de",
   "metadata": {},
   "outputs": [],
   "source": [
    "pred_idx = torch.argmax(proj_output, dim=-1)"
   ]
  },
  {
   "cell_type": "code",
   "execution_count": null,
   "id": "2b64062a-2eaf-4815-84aa-e5c85f950d14",
   "metadata": {},
   "outputs": [],
   "source": [
    "pred = torch.tensor(trainer.tokenizer.batchDecode(pred_idx))\n",
    "print(pred)"
   ]
  },
  {
   "cell_type": "code",
   "execution_count": null,
   "id": "d998879d-e10f-4e42-a797-4e692587b6ff",
   "metadata": {},
   "outputs": [],
   "source": [
    "mse_loss = torch.nn.MSELoss(reduction='none')\n",
    "tgt = batch[\"tgt\"]"
   ]
  },
  {
   "cell_type": "code",
   "execution_count": null,
   "id": "01a449c1-0be2-4334-9176-a6e5ef09cd15",
   "metadata": {},
   "outputs": [],
   "source": [
    "loss = mse_loss(pred, tgt)\n",
    "mask = ~torch.isnan(pred) & ~torch.isnan(tgt)\n",
    "filtered_loss = loss[mask]\n",
    "final_loss = filtered_loss.mean() if filtered_loss.numel() > 0 else torch.tensor(0.0)\n",
    "print(final_loss)"
   ]
  }
 ],
 "metadata": {
  "kernelspec": {
   "display_name": "Python 3 (ipykernel)",
   "language": "python",
   "name": "python3"
  },
  "language_info": {
   "codemirror_mode": {
    "name": "ipython",
    "version": 3
   },
   "file_extension": ".py",
   "mimetype": "text/x-python",
   "name": "python",
   "nbconvert_exporter": "python",
   "pygments_lexer": "ipython3",
   "version": "3.12.7"
  }
 },
 "nbformat": 4,
 "nbformat_minor": 5
}
