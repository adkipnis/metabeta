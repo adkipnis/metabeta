{
 "cells": [
  {
   "cell_type": "code",
   "execution_count": 1,
   "id": "862cc811-ca31-4127-9369-eea8330b1541",
   "metadata": {},
   "outputs": [],
   "source": [
    "from generator import Task, LinearModel\n",
    "from tokenizer import FloatTokenizer\n",
    "from dataset import LinearModelDataset\n",
    "from config import getConfig\n",
    "from train import Trainer\n",
    "from tqdm import tqdm\n",
    "import torch\n",
    "import math"
   ]
  },
  {
   "cell_type": "code",
   "execution_count": 2,
   "id": "cbe0e586-27ff-4265-8074-edd5eadcecb4",
   "metadata": {},
   "outputs": [
    {
     "name": "stdout",
     "output_type": "stream",
     "text": [
      "Device: cpu\n",
      "Loading weights from weights/tmodel-70.pt\n"
     ]
    }
   ],
   "source": [
    "cfg = getConfig()\n",
    "trainer = Trainer(cfg)"
   ]
  },
  {
   "cell_type": "code",
   "execution_count": 3,
   "id": "5077a74a-7c97-4f66-bff1-33ba1fcf5bf3",
   "metadata": {},
   "outputs": [],
   "source": [
    "def runBatch2(batch: dict) -> float:\n",
    "        self.model.train()\n",
    "        encoder_input = batch[\"encoder_input\"].to(self.device) # (batch_size, seq_len)\n",
    "        encoder_mask = batch[\"encoder_mask\"].to(self.device) # (batch_size, 1, 1, seq_len)\n",
    "        decoder_input = batch[\"decoder_input\"].to(self.device) # (batch_size, seq_len)\n",
    "        decoder_mask = batch[\"decoder_mask\"].to(self.device) # (batch_size, 1, seq_len, seq_len)\n",
    "\n",
    "        # forward pass\n",
    "        encoder_output = self.model.encode(encoder_input, encoder_mask) # (batch_size, seq_len, d_model)\n",
    "        decoder_output = self.model.decode(encoder_output, encoder_mask, decoder_input, decoder_mask) # (batch_size, seq_len, d_model)\n",
    "        proj_output = self.model.projection(decoder_output) # (batch_size, seq_len, vocab_tgt_len)\n",
    "        return proj_output\n",
    "\n",
    "trainer.runBatch2 = runBatch2"
   ]
  },
  {
   "cell_type": "code",
   "execution_count": 4,
   "id": "2909fcc8-7bba-4969-9495-8a22c3875617",
   "metadata": {},
   "outputs": [
    {
     "name": "stdout",
     "output_type": "stream",
     "text": [
      "Train size: 900, Validation size: 100\n"
     ]
    },
    {
     "name": "stderr",
     "output_type": "stream",
     "text": [
      "Epoch 01:   0%|                                                               | 0/90 [00:04<?, ?it/s]\n"
     ]
    }
   ],
   "source": [
    "self = trainer\n",
    "epoch = 1\n",
    "train_dl, val_dl = self.getDataset(config=self.config, seed=2)\n",
    "batch_iterator = tqdm(train_dl, desc=f\"Epoch {epoch:02d}\")\n",
    "\n",
    "for batch in batch_iterator:\n",
    "    proj_output = self.runBatch2(batch)\n",
    "    break\n"
   ]
  },
  {
   "cell_type": "code",
   "execution_count": 9,
   "id": "142f26b9-c549-4154-b9df-ee467dc316de",
   "metadata": {},
   "outputs": [],
   "source": [
    "pred_idx = torch.argmax(proj_output, dim=-1)"
   ]
  },
  {
   "cell_type": "code",
   "execution_count": 12,
   "id": "2b64062a-2eaf-4815-84aa-e5c85f950d14",
   "metadata": {},
   "outputs": [
    {
     "name": "stdout",
     "output_type": "stream",
     "text": [
      "Error decoding ['+', '+', 'E-4']\n",
      "tensor([[ 2.4520e+00],\n",
      "        [        nan],\n",
      "        [ 4.0000e-04],\n",
      "        [ 1.6370e+00],\n",
      "        [ 1.0710e+00],\n",
      "        [ 3.0000e-03],\n",
      "        [ 3.3070e-01],\n",
      "        [-1.6370e+00],\n",
      "        [ 1.6370e+00],\n",
      "        [ 4.0000e-04]])\n"
     ]
    }
   ],
   "source": [
    "pred = torch.tensor(trainer.tokenizer.batchDecode(pred_idx))\n",
    "print(pred)"
   ]
  },
  {
   "cell_type": "code",
   "execution_count": 17,
   "id": "d998879d-e10f-4e42-a797-4e692587b6ff",
   "metadata": {},
   "outputs": [],
   "source": [
    "mse_loss = torch.nn.MSELoss(reduction='none')\n",
    "tgt = batch[\"tgt\"]"
   ]
  },
  {
   "cell_type": "code",
   "execution_count": 24,
   "id": "01a449c1-0be2-4334-9176-a6e5ef09cd15",
   "metadata": {},
   "outputs": [
    {
     "name": "stdout",
     "output_type": "stream",
     "text": [
      "tensor(1.5480)\n"
     ]
    }
   ],
   "source": [
    "loss = mse_loss(pred, tgt)\n",
    "mask = ~torch.isnan(pred) & ~torch.isnan(tgt)\n",
    "filtered_loss = loss[mask]\n",
    "final_loss = filtered_loss.mean() if filtered_loss.numel() > 0 else torch.tensor(0.0)\n",
    "print(final_loss)"
   ]
  }
 ],
 "metadata": {
  "kernelspec": {
   "display_name": "Python 3 (ipykernel)",
   "language": "python",
   "name": "python3"
  },
  "language_info": {
   "codemirror_mode": {
    "name": "ipython",
    "version": 3
   },
   "file_extension": ".py",
   "mimetype": "text/x-python",
   "name": "python",
   "nbconvert_exporter": "python",
   "pygments_lexer": "ipython3",
   "version": "3.12.7"
  }
 },
 "nbformat": 4,
 "nbformat_minor": 5
}
